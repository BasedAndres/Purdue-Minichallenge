{
  "cells": [
    {
      "cell_type": "code",
      "execution_count": null,
      "metadata": {
        "colab": {
          "base_uri": "https://localhost:8080/"
        },
        "id": "NC8T5CaRrcQs",
        "outputId": "c54c9dfd-00c0-464e-d10f-e7f53e35d14d"
      },
      "outputs": [
        {
          "name": "stdout",
          "output_type": "stream",
          "text": [
            "Mounted at /content/drive\n"
          ]
        }
      ],
      "source": [
        "from google.colab import drive\n",
        "drive.mount('/content/drive')"
      ]
    },
    {
      "cell_type": "code",
      "execution_count": null,
      "metadata": {
        "id": "NpcNWcJdcH2A"
      },
      "outputs": [],
      "source": [
        "%matplotlib inline\n",
        "import time\n",
        "from typing import List, Dict\n",
        "import random\n",
        "import os\n",
        "import torch\n",
        "import cv2\n",
        "import torch.nn as nn\n",
        "import torch.optim as optim\n",
        "import torch.nn.functional as F\n",
        "import pandas as pd\n",
        "import torchvision\n",
        "import torchvision.models as models\n",
        "import torchvision.transforms as transforms\n",
        "import numpy as np\n",
        "import matplotlib.pyplot as plt\n",
        "from torch.utils.data import Dataset\n",
        "from tqdm import tqdm\n",
        "from PIL import Image\n",
        "from facenet_pytorch import MTCNN"
      ]
    },
    {
      "cell_type": "code",
      "execution_count": null,
      "metadata": {
        "colab": {
          "base_uri": "https://localhost:8080/",
          "height": 35
        },
        "id": "Kn6XQs6Jc8lD",
        "outputId": "fc7690a8-e3ab-4049-8ef3-9631c220f41b"
      },
      "outputs": [
        {
          "data": {
            "application/vnd.google.colaboratory.intrinsic+json": {
              "type": "string"
            },
            "text/plain": [
              "'2.2.1+cu121'"
            ]
          },
          "execution_count": 3,
          "metadata": {},
          "output_type": "execute_result"
        }
      ],
      "source": [
        "torch.__version__"
      ]
    },
    {
      "cell_type": "code",
      "execution_count": null,
      "metadata": {
        "id": "sRexP1Psd3uY"
      },
      "outputs": [],
      "source": [
        "device = torch.device('cuda' if torch.cuda.is_available() else 'cpu')"
      ]
    },
    {
      "cell_type": "code",
      "execution_count": null,
      "metadata": {
        "colab": {
          "base_uri": "https://localhost:8080/"
        },
        "id": "cWdyU5Jmc8lE",
        "outputId": "674c982c-ee3a-460f-a79b-27b48d746d42"
      },
      "outputs": [
        {
          "data": {
            "text/plain": [
              "device(type='cuda')"
            ]
          },
          "execution_count": 5,
          "metadata": {},
          "output_type": "execute_result"
        }
      ],
      "source": [
        "device"
      ]
    },
    {
      "cell_type": "code",
      "execution_count": null,
      "metadata": {
        "id": "C5-XVE3cc8lE"
      },
      "outputs": [],
      "source": [
        "def cropface(img, x, y, w, h):\n",
        "    height, width, chan = img.shape\n",
        "    xmn = max(0,int(x))\n",
        "    xmx = min(width,int(x+w))\n",
        "    ymn = max(0,int(y))\n",
        "    ymx = min(height,int(y+h))\n",
        "    crop_img = img[ymn:ymx, xmn:xmx]\n",
        "    return crop_img"
      ]
    },
    {
      "cell_type": "code",
      "execution_count": null,
      "metadata": {
        "id": "7hq8saIuc8lF"
      },
      "outputs": [],
      "source": [
        "#face detector is from https://github.com/keyurr2/face-detection\n",
        "\n",
        "modelFile = '/content/drive/MyDrive/minichallenge/res10_300x300_ssd_iter_140000.caffemodel'\n",
        "configFile = '/content/drive/MyDrive/minichallenge/deploy.prototxt.txt'\n",
        "net = cv2.dnn.readNetFromCaffe(configFile, modelFile)"
      ]
    },
    {
      "cell_type": "code",
      "execution_count": null,
      "metadata": {
        "id": "xpu-VmH4c8lF"
      },
      "outputs": [],
      "source": [
        "#get the highest confidence face detected\n",
        "def getface(image,net):\n",
        "\n",
        "    h, w = image.shape[:2]\n",
        "\n",
        "    blob = cv2.dnn.blobFromImage(cv2.resize(image, (300, 300)), 1.0,(300, 300), (104.0, 117.0, 123.0))\n",
        "    net.setInput(blob)\n",
        "    faces = net.forward()\n",
        "    arr_face = []\n",
        "    cont = 0\n",
        "    for i in range(faces.shape[2]):\n",
        "        confidence = faces[0,0,i,2]\n",
        "        if confidence > 0.4:\n",
        "            cont += 1\n",
        "            box = faces[0, 0, i, 3:7] * np.array([w, h, w, h])\n",
        "            (x, y, x1, y1) = box.astype(\"int\")\n",
        "            (x, y, x1, y1) = (x - 10, y - 10, x1+10, y1+10)\n",
        "            imgcrop = cropface(image,x,y,abs(x1-x),abs(y1-y))\n",
        "            arr_face.append(imgcrop)\n",
        "        if cont > 0:\n",
        "            break\n",
        "\n",
        "    return arr_face\n"
      ]
    },
    {
      "cell_type": "code",
      "execution_count": null,
      "metadata": {
        "id": "H7AY0FQtc8lF"
      },
      "outputs": [],
      "source": [
        "def train(model: nn.Module,\n",
        "          loss_fn: nn.modules.loss._Loss,\n",
        "          optimizer: torch.optim.Optimizer,\n",
        "          train_loader: torch.utils.data.DataLoader,\n",
        "          epoch: int=0)-> List:\n",
        "    train_loss = []\n",
        "    model.train()\n",
        "    for batch_idx,sample_batch in enumerate(tqdm(train_loader)):\n",
        "      # Zero the parameter gradients\n",
        "      optimizer.zero_grad()\n",
        "      images = sample_batch['image']\n",
        "      targets = sample_batch['target']\n",
        "      images = images.float()\n",
        "      images = images.to(device)\n",
        "      targets = targets.to(device)\n",
        "      # Forward + backward + optimize\n",
        "      output = model(images)\n",
        "      loss = loss_fn(output, targets)\n",
        "      loss.backward()\n",
        "      optimizer.step()\n",
        "\n",
        "\n",
        "      train_loss.append(loss.item())\n",
        "    assert len(train_loss) == len(train_loader)\n",
        "    return train_loss\n"
      ]
    },
    {
      "cell_type": "code",
      "execution_count": null,
      "metadata": {
        "id": "mIrLATw7c8lF"
      },
      "outputs": [],
      "source": [
        "def test(model: nn.Module,\n",
        "         loss_fn: nn.modules.loss._Loss,\n",
        "         test_loader: torch.utils.data.DataLoader,\n",
        "         epoch: int=0)-> Dict:\n",
        "    test_loss = 0\n",
        "    correct = 0\n",
        "    total_num = 0\n",
        "    model.eval()\n",
        "    prediction = torch.empty(0).to(device)\n",
        "    accbatch = []\n",
        "    with torch.no_grad():\n",
        "      for batch_idx,sample_batch in enumerate(test_loader):\n",
        "        images = sample_batch['image']\n",
        "        targets = sample_batch['target']\n",
        "        images = images.to(device)\n",
        "        images = images.float()\n",
        "        targets = targets.to(device)\n",
        "        output = model(images)\n",
        "        test_loss += loss_fn(output, targets).item()\n",
        "        pred = output.data.max(1, keepdim=True)[1]\n",
        "\n",
        "        pred = torch.flatten(pred, 0)\n",
        "        prediction = torch.cat((prediction,pred),dim=0)\n",
        "\n",
        "        correct += pred.eq(targets.data.view_as(pred)).sum()\n",
        "        total_num = total_num+1\n",
        "\n",
        "    test_loss /= len(test_loader)\n",
        "    accuracy = (correct/len(test_loader.dataset))\n",
        "\n",
        "    test_stat = {\"loss\":test_loss,\"accuracy\":accuracy,\"prediction\":prediction}\n",
        "\n",
        "    print(f\"Test result on epoch {epoch}: total sample: {total_num}, Avg loss: {test_stat['loss']:.3f}, Acc: {100*test_stat['accuracy']:.3f}%\")\n",
        "\n",
        "    return test_stat"
      ]
    },
    {
      "cell_type": "code",
      "execution_count": null,
      "metadata": {
        "id": "NBDXgPJ_gojG"
      },
      "outputs": [],
      "source": [
        "#set all seeds to 0\n",
        "def set_seed(seed: int = 0) -> None:\n",
        "    torch.backends.cudnn.deterministic = True\n",
        "    torch.backends.cudnn.benchmark = False\n",
        "    torch.manual_seed(seed)\n",
        "    torch.cuda.manual_seed_all(seed)\n",
        "    np.random.seed(seed)\n",
        "    random.seed(seed)\n",
        "set_seed(0)"
      ]
    },
    {
      "cell_type": "code",
      "execution_count": null,
      "metadata": {
        "id": "QX1zqhj-c8lG"
      },
      "outputs": [],
      "source": [
        "pathCsv = '/content/drive/MyDrive/minichallenge/train.csv'\n",
        "pathCat = '/content/drive/MyDrive/minichallenge/category.csv'\n",
        "celebcsv = pd.read_csv(pathCsv, header = 0)\n",
        "celebcsv.set_index('Category',inplace=True)\n",
        "celebcat = pd.read_csv(pathCat,header = 0)\n",
        "celebcat.set_index('Category',inplace=True)\n"
      ]
    },
    {
      "cell_type": "code",
      "execution_count": null,
      "metadata": {
        "id": "3uoFh6fLc8lG"
      },
      "outputs": [],
      "source": [
        "celebcsv = pd.merge(celebcsv,celebcat,left_index=True, right_index=True)\n",
        "celebcsv = celebcsv.drop('Unnamed: 0_x',axis=1)"
      ]
    },
    {
      "cell_type": "code",
      "execution_count": null,
      "metadata": {
        "id": "j0NwLL8gc8lG"
      },
      "outputs": [],
      "source": [
        "celebdata = celebcsv.to_numpy()"
      ]
    },
    {
      "cell_type": "code",
      "execution_count": null,
      "metadata": {
        "id": "kTnJ2bupc8lG"
      },
      "outputs": [],
      "source": [
        "np.random.shuffle(celebdata)"
      ]
    },
    {
      "cell_type": "code",
      "execution_count": null,
      "metadata": {
        "id": "mTZnUE2NtNGY"
      },
      "outputs": [],
      "source": [
        "pathFace = '/content/drive/MyDrive/minichallenge/train'"
      ]
    },
    {
      "cell_type": "code",
      "execution_count": null,
      "metadata": {
        "id": "NkNsdRcia0RJ"
      },
      "outputs": [],
      "source": [
        "listitems = os.listdir(pathFace)"
      ]
    },
    {
      "cell_type": "code",
      "execution_count": null,
      "metadata": {
        "colab": {
          "base_uri": "https://localhost:8080/"
        },
        "id": "Ahafb2kUbsvO",
        "outputId": "7c318c3e-5017-4031-8761-007c455fb861"
      },
      "outputs": [
        {
          "name": "stdout",
          "output_type": "stream",
          "text": [
            "69630\n"
          ]
        }
      ],
      "source": [
        "print(len(listitems))"
      ]
    },
    {
      "cell_type": "code",
      "execution_count": null,
      "metadata": {
        "id": "qBpMxEGBc8lH"
      },
      "outputs": [],
      "source": [
        "pathFace = '/content/drive/MyDrive/minichallenge/train'\n",
        "pathsave = '/content/drive/MyDrive/minichallenge/faces'\n",
        "new_arr = []\n",
        "cont = 0\n",
        "for idx,name in enumerate(tqdm(celebdata)):\n",
        "    image_pil = Image.open(str(os.path.join(pathFace, name[0]))).convert('RGB')\n",
        "    image = np.array(image_pil)\n",
        "    image = image[:, :, ::-1].copy()\n",
        "\n",
        "    faces = getface(image,net)\n",
        "    for face in faces:\n",
        "        cv2.imwrite(str(os.path.join(pathsave, str(cont)+'.jpg')),face)\n",
        "        new_arr.append([str(cont)+'.jpg',name[1]])\n",
        "        cont = cont+1\n",
        "\n",
        "\n",
        "celebndata_train = np.array(new_arr,dtype=\"object\")"
      ]
    },
    {
      "cell_type": "code",
      "execution_count": null,
      "metadata": {
        "id": "eduqUtSyhJKr"
      },
      "outputs": [],
      "source": [
        "transformdata = torchvision.transforms.Compose([torchvision.transforms.ToTensor(),\n",
        "                                                torchvision.transforms.Resize((224,224)),\n",
        "                                                torchvision.transforms.RandomHorizontalFlip(),\n",
        "                                               torchvision.transforms.RandomRotation(30),\n",
        "\n",
        "                                               torchvision.transforms.Normalize(mean=[0.485, 0.456, 0.406],std=[0.229, 0.224, 0.225])\n",
        "                                               ])\n",
        "\n",
        "transformtest = torchvision.transforms.Compose([torchvision.transforms.ToTensor(),\n",
        "                                                torchvision.transforms.Resize((224,224)),\n",
        "                                                torchvision.transforms.Normalize(mean=[0.485, 0.456, 0.406],std=[0.229, 0.224, 0.225])\n",
        "])"
      ]
    },
    {
      "cell_type": "code",
      "execution_count": null,
      "metadata": {
        "id": "zx9xJmUNc8lH"
      },
      "outputs": [],
      "source": [
        "class CelebrityDataset(Dataset):\n",
        "  def __init__(self, dataset, pathFace, transforms = None):\n",
        "    self.celebdframe = dataset\n",
        "    self.pathFace = pathFace\n",
        "    self.transform = transforms\n",
        "\n",
        "  def __len__(self):\n",
        "    return len(self.celebdframe)\n",
        "\n",
        "  def __getitem__(self, idx):\n",
        "    if torch.is_tensor(idx):\n",
        "            idx = idx.tolist()\n",
        "\n",
        "    imgName = os.path.join(self.pathFace, self.celebdframe[idx,0])\n",
        "    image = cv2.imread(imgName,cv2.IMREAD_GRAYSCALE)\n",
        "    image = cv2.cvtColor(image,cv2.COLOR_GRAY2BGR)\n",
        "    label = int(self.celebdframe[idx, 1])\n",
        "\n",
        "    tlabel = torch.tensor(label)\n",
        "\n",
        "    if self.transform:\n",
        "      timage = self.transform(image)\n",
        "    sample = {'image': timage, 'target': tlabel}\n",
        "\n",
        "\n",
        "    return sample"
      ]
    },
    {
      "cell_type": "code",
      "execution_count": null,
      "metadata": {
        "id": "ZPwuRMqmc8lI"
      },
      "outputs": [],
      "source": [
        "np.random.shuffle(celebndata)\n",
        "pathFace = '/content/drive/MyDrive/minichallenge/faces'\n",
        "traindata = celebndata[:int(len(celebndata)*0.8)]\n",
        "testdata = celebndata[int(len(celebndata)*0.8):]\n",
        "celebdataset = CelebrityDataset(traindata,pathFace,transformdata)\n",
        "celeb_test = CelebrityDataset(testdata,pathFace,transformtest)"
      ]
    },
    {
      "cell_type": "code",
      "execution_count": null,
      "metadata": {
        "id": "VZyDao5_c8lI"
      },
      "outputs": [],
      "source": [
        "train_loader = torch.utils.data.DataLoader(celebdataset, batch_size=100, shuffle=True)\n",
        "test_loader = torch.utils.data.DataLoader(celeb_test,batch_size=100, shuffle=True)"
      ]
    },
    {
      "cell_type": "code",
      "execution_count": null,
      "metadata": {
        "id": "PE34cwZ7c8lJ"
      },
      "outputs": [],
      "source": [
        "import torchvision.models as models"
      ]
    },
    {
      "cell_type": "code",
      "execution_count": null,
      "metadata": {
        "id": "Ldy3jxOBc8lK"
      },
      "outputs": [],
      "source": [
        "model = models.resnet34(weights='DEFAULT')\n",
        "model.fc = nn.Linear(in_features=512, out_features=100)\n",
        "model = model.to(device)"
      ]
    },
    {
      "cell_type": "code",
      "execution_count": null,
      "metadata": {
        "id": "rFrcJhNtc8lK"
      },
      "outputs": [],
      "source": [
        "pathd = '/content/drive/MyDrive/minichallenge/best_model.pt'"
      ]
    },
    {
      "cell_type": "code",
      "execution_count": null,
      "metadata": {
        "id": "YkF2eTutc8lK"
      },
      "outputs": [],
      "source": [
        "criterion = nn.CrossEntropyLoss()\n",
        "optimizer = optim.SGD(model.parameters(), lr=0.01,momentum=0.9)"
      ]
    },
    {
      "cell_type": "code",
      "execution_count": null,
      "metadata": {
        "id": "r0BF5FElAvVE"
      },
      "outputs": [],
      "source": [
        "\n",
        "set_seed(0)\n",
        "max_epoch = 10\n",
        "highest_acc = 0\n",
        "for epoch in range(1,max_epoch+1):\n",
        "  loss = train(model,criterion,optimizer,train_loader,epoch)\n",
        "  set_seed()\n",
        "  test_stat = test(model,criterion,test_loader,epoch)\n",
        "  if test_stat['accuracy'] > highest_acc:\n",
        "    highest_acc = test_stat['accuracy']\n",
        "    best_model = model\n",
        "\n",
        "torch.save(best_model,pathd)"
      ]
    },
    {
      "cell_type": "code",
      "execution_count": null,
      "metadata": {
        "id": "Ee66WFFoc8lM",
        "outputId": "7bebefe0-18f0-4708-e407-7455a79434d5"
      },
      "outputs": [
        {
          "data": {
            "text/plain": [
              "ResNet(\n",
              "  (conv1): Conv2d(3, 64, kernel_size=(7, 7), stride=(2, 2), padding=(3, 3), bias=False)\n",
              "  (bn1): BatchNorm2d(64, eps=1e-05, momentum=0.1, affine=True, track_running_stats=True)\n",
              "  (relu): ReLU(inplace=True)\n",
              "  (maxpool): MaxPool2d(kernel_size=3, stride=2, padding=1, dilation=1, ceil_mode=False)\n",
              "  (layer1): Sequential(\n",
              "    (0): BasicBlock(\n",
              "      (conv1): Conv2d(64, 64, kernel_size=(3, 3), stride=(1, 1), padding=(1, 1), bias=False)\n",
              "      (bn1): BatchNorm2d(64, eps=1e-05, momentum=0.1, affine=True, track_running_stats=True)\n",
              "      (relu): ReLU(inplace=True)\n",
              "      (conv2): Conv2d(64, 64, kernel_size=(3, 3), stride=(1, 1), padding=(1, 1), bias=False)\n",
              "      (bn2): BatchNorm2d(64, eps=1e-05, momentum=0.1, affine=True, track_running_stats=True)\n",
              "    )\n",
              "    (1): BasicBlock(\n",
              "      (conv1): Conv2d(64, 64, kernel_size=(3, 3), stride=(1, 1), padding=(1, 1), bias=False)\n",
              "      (bn1): BatchNorm2d(64, eps=1e-05, momentum=0.1, affine=True, track_running_stats=True)\n",
              "      (relu): ReLU(inplace=True)\n",
              "      (conv2): Conv2d(64, 64, kernel_size=(3, 3), stride=(1, 1), padding=(1, 1), bias=False)\n",
              "      (bn2): BatchNorm2d(64, eps=1e-05, momentum=0.1, affine=True, track_running_stats=True)\n",
              "    )\n",
              "    (2): BasicBlock(\n",
              "      (conv1): Conv2d(64, 64, kernel_size=(3, 3), stride=(1, 1), padding=(1, 1), bias=False)\n",
              "      (bn1): BatchNorm2d(64, eps=1e-05, momentum=0.1, affine=True, track_running_stats=True)\n",
              "      (relu): ReLU(inplace=True)\n",
              "      (conv2): Conv2d(64, 64, kernel_size=(3, 3), stride=(1, 1), padding=(1, 1), bias=False)\n",
              "      (bn2): BatchNorm2d(64, eps=1e-05, momentum=0.1, affine=True, track_running_stats=True)\n",
              "    )\n",
              "  )\n",
              "  (layer2): Sequential(\n",
              "    (0): BasicBlock(\n",
              "      (conv1): Conv2d(64, 128, kernel_size=(3, 3), stride=(2, 2), padding=(1, 1), bias=False)\n",
              "      (bn1): BatchNorm2d(128, eps=1e-05, momentum=0.1, affine=True, track_running_stats=True)\n",
              "      (relu): ReLU(inplace=True)\n",
              "      (conv2): Conv2d(128, 128, kernel_size=(3, 3), stride=(1, 1), padding=(1, 1), bias=False)\n",
              "      (bn2): BatchNorm2d(128, eps=1e-05, momentum=0.1, affine=True, track_running_stats=True)\n",
              "      (downsample): Sequential(\n",
              "        (0): Conv2d(64, 128, kernel_size=(1, 1), stride=(2, 2), bias=False)\n",
              "        (1): BatchNorm2d(128, eps=1e-05, momentum=0.1, affine=True, track_running_stats=True)\n",
              "      )\n",
              "    )\n",
              "    (1): BasicBlock(\n",
              "      (conv1): Conv2d(128, 128, kernel_size=(3, 3), stride=(1, 1), padding=(1, 1), bias=False)\n",
              "      (bn1): BatchNorm2d(128, eps=1e-05, momentum=0.1, affine=True, track_running_stats=True)\n",
              "      (relu): ReLU(inplace=True)\n",
              "      (conv2): Conv2d(128, 128, kernel_size=(3, 3), stride=(1, 1), padding=(1, 1), bias=False)\n",
              "      (bn2): BatchNorm2d(128, eps=1e-05, momentum=0.1, affine=True, track_running_stats=True)\n",
              "    )\n",
              "    (2): BasicBlock(\n",
              "      (conv1): Conv2d(128, 128, kernel_size=(3, 3), stride=(1, 1), padding=(1, 1), bias=False)\n",
              "      (bn1): BatchNorm2d(128, eps=1e-05, momentum=0.1, affine=True, track_running_stats=True)\n",
              "      (relu): ReLU(inplace=True)\n",
              "      (conv2): Conv2d(128, 128, kernel_size=(3, 3), stride=(1, 1), padding=(1, 1), bias=False)\n",
              "      (bn2): BatchNorm2d(128, eps=1e-05, momentum=0.1, affine=True, track_running_stats=True)\n",
              "    )\n",
              "    (3): BasicBlock(\n",
              "      (conv1): Conv2d(128, 128, kernel_size=(3, 3), stride=(1, 1), padding=(1, 1), bias=False)\n",
              "      (bn1): BatchNorm2d(128, eps=1e-05, momentum=0.1, affine=True, track_running_stats=True)\n",
              "      (relu): ReLU(inplace=True)\n",
              "      (conv2): Conv2d(128, 128, kernel_size=(3, 3), stride=(1, 1), padding=(1, 1), bias=False)\n",
              "      (bn2): BatchNorm2d(128, eps=1e-05, momentum=0.1, affine=True, track_running_stats=True)\n",
              "    )\n",
              "  )\n",
              "  (layer3): Sequential(\n",
              "    (0): BasicBlock(\n",
              "      (conv1): Conv2d(128, 256, kernel_size=(3, 3), stride=(2, 2), padding=(1, 1), bias=False)\n",
              "      (bn1): BatchNorm2d(256, eps=1e-05, momentum=0.1, affine=True, track_running_stats=True)\n",
              "      (relu): ReLU(inplace=True)\n",
              "      (conv2): Conv2d(256, 256, kernel_size=(3, 3), stride=(1, 1), padding=(1, 1), bias=False)\n",
              "      (bn2): BatchNorm2d(256, eps=1e-05, momentum=0.1, affine=True, track_running_stats=True)\n",
              "      (downsample): Sequential(\n",
              "        (0): Conv2d(128, 256, kernel_size=(1, 1), stride=(2, 2), bias=False)\n",
              "        (1): BatchNorm2d(256, eps=1e-05, momentum=0.1, affine=True, track_running_stats=True)\n",
              "      )\n",
              "    )\n",
              "    (1): BasicBlock(\n",
              "      (conv1): Conv2d(256, 256, kernel_size=(3, 3), stride=(1, 1), padding=(1, 1), bias=False)\n",
              "      (bn1): BatchNorm2d(256, eps=1e-05, momentum=0.1, affine=True, track_running_stats=True)\n",
              "      (relu): ReLU(inplace=True)\n",
              "      (conv2): Conv2d(256, 256, kernel_size=(3, 3), stride=(1, 1), padding=(1, 1), bias=False)\n",
              "      (bn2): BatchNorm2d(256, eps=1e-05, momentum=0.1, affine=True, track_running_stats=True)\n",
              "    )\n",
              "    (2): BasicBlock(\n",
              "      (conv1): Conv2d(256, 256, kernel_size=(3, 3), stride=(1, 1), padding=(1, 1), bias=False)\n",
              "      (bn1): BatchNorm2d(256, eps=1e-05, momentum=0.1, affine=True, track_running_stats=True)\n",
              "      (relu): ReLU(inplace=True)\n",
              "      (conv2): Conv2d(256, 256, kernel_size=(3, 3), stride=(1, 1), padding=(1, 1), bias=False)\n",
              "      (bn2): BatchNorm2d(256, eps=1e-05, momentum=0.1, affine=True, track_running_stats=True)\n",
              "    )\n",
              "    (3): BasicBlock(\n",
              "      (conv1): Conv2d(256, 256, kernel_size=(3, 3), stride=(1, 1), padding=(1, 1), bias=False)\n",
              "      (bn1): BatchNorm2d(256, eps=1e-05, momentum=0.1, affine=True, track_running_stats=True)\n",
              "      (relu): ReLU(inplace=True)\n",
              "      (conv2): Conv2d(256, 256, kernel_size=(3, 3), stride=(1, 1), padding=(1, 1), bias=False)\n",
              "      (bn2): BatchNorm2d(256, eps=1e-05, momentum=0.1, affine=True, track_running_stats=True)\n",
              "    )\n",
              "    (4): BasicBlock(\n",
              "      (conv1): Conv2d(256, 256, kernel_size=(3, 3), stride=(1, 1), padding=(1, 1), bias=False)\n",
              "      (bn1): BatchNorm2d(256, eps=1e-05, momentum=0.1, affine=True, track_running_stats=True)\n",
              "      (relu): ReLU(inplace=True)\n",
              "      (conv2): Conv2d(256, 256, kernel_size=(3, 3), stride=(1, 1), padding=(1, 1), bias=False)\n",
              "      (bn2): BatchNorm2d(256, eps=1e-05, momentum=0.1, affine=True, track_running_stats=True)\n",
              "    )\n",
              "    (5): BasicBlock(\n",
              "      (conv1): Conv2d(256, 256, kernel_size=(3, 3), stride=(1, 1), padding=(1, 1), bias=False)\n",
              "      (bn1): BatchNorm2d(256, eps=1e-05, momentum=0.1, affine=True, track_running_stats=True)\n",
              "      (relu): ReLU(inplace=True)\n",
              "      (conv2): Conv2d(256, 256, kernel_size=(3, 3), stride=(1, 1), padding=(1, 1), bias=False)\n",
              "      (bn2): BatchNorm2d(256, eps=1e-05, momentum=0.1, affine=True, track_running_stats=True)\n",
              "    )\n",
              "  )\n",
              "  (layer4): Sequential(\n",
              "    (0): BasicBlock(\n",
              "      (conv1): Conv2d(256, 512, kernel_size=(3, 3), stride=(2, 2), padding=(1, 1), bias=False)\n",
              "      (bn1): BatchNorm2d(512, eps=1e-05, momentum=0.1, affine=True, track_running_stats=True)\n",
              "      (relu): ReLU(inplace=True)\n",
              "      (conv2): Conv2d(512, 512, kernel_size=(3, 3), stride=(1, 1), padding=(1, 1), bias=False)\n",
              "      (bn2): BatchNorm2d(512, eps=1e-05, momentum=0.1, affine=True, track_running_stats=True)\n",
              "      (downsample): Sequential(\n",
              "        (0): Conv2d(256, 512, kernel_size=(1, 1), stride=(2, 2), bias=False)\n",
              "        (1): BatchNorm2d(512, eps=1e-05, momentum=0.1, affine=True, track_running_stats=True)\n",
              "      )\n",
              "    )\n",
              "    (1): BasicBlock(\n",
              "      (conv1): Conv2d(512, 512, kernel_size=(3, 3), stride=(1, 1), padding=(1, 1), bias=False)\n",
              "      (bn1): BatchNorm2d(512, eps=1e-05, momentum=0.1, affine=True, track_running_stats=True)\n",
              "      (relu): ReLU(inplace=True)\n",
              "      (conv2): Conv2d(512, 512, kernel_size=(3, 3), stride=(1, 1), padding=(1, 1), bias=False)\n",
              "      (bn2): BatchNorm2d(512, eps=1e-05, momentum=0.1, affine=True, track_running_stats=True)\n",
              "    )\n",
              "    (2): BasicBlock(\n",
              "      (conv1): Conv2d(512, 512, kernel_size=(3, 3), stride=(1, 1), padding=(1, 1), bias=False)\n",
              "      (bn1): BatchNorm2d(512, eps=1e-05, momentum=0.1, affine=True, track_running_stats=True)\n",
              "      (relu): ReLU(inplace=True)\n",
              "      (conv2): Conv2d(512, 512, kernel_size=(3, 3), stride=(1, 1), padding=(1, 1), bias=False)\n",
              "      (bn2): BatchNorm2d(512, eps=1e-05, momentum=0.1, affine=True, track_running_stats=True)\n",
              "    )\n",
              "  )\n",
              "  (avgpool): AdaptiveAvgPool2d(output_size=(1, 1))\n",
              "  (fc): Linear(in_features=512, out_features=100, bias=True)\n",
              ")"
            ]
          },
          "execution_count": 19,
          "metadata": {},
          "output_type": "execute_result"
        }
      ],
      "source": [
        "best_model"
      ]
    },
    {
      "cell_type": "code",
      "execution_count": null,
      "metadata": {
        "id": "wttvplfvc8lM"
      },
      "outputs": [],
      "source": [
        "def getfacetest(image,net):\n",
        "    #we increase the borders since big faces didn't work on the face detector. This wasn't done for the first part since it worked best this way\n",
        "    #We also use all faces detected in the image\n",
        "    h, w = image.shape[:2]\n",
        "    image = cv2.copyMakeBorder(image,int(h*0.4),int(h*0.4),int(w*0.4),int(w*0.4), cv2.BORDER_CONSTANT, None,0)\n",
        "    h, w = image.shape[:2]\n",
        "\n",
        "    blob = cv2.dnn.blobFromImage(cv2.resize(image, (300, 300)), 1.0,(300, 300), (104.0, 117.0, 123.0))\n",
        "    net.setInput(blob)\n",
        "    faces = net.forward()\n",
        "    arr_face = []\n",
        "    cont = 0\n",
        "    #print(faces[0,0,:,2])\n",
        "    for i in range(faces.shape[2]):\n",
        "        confidence = faces[0,0,i,2]\n",
        "        if confidence > 0.4:\n",
        "\n",
        "            cont += 1\n",
        "            box = faces[0, 0, i, 3:7] * np.array([w, h, w, h])\n",
        "            (x, y, x1, y1) = box.astype(\"int\")\n",
        "            width = x1 - x\n",
        "            height = y1 - y\n",
        "            (x, y, x1, y1) = (x - int(width*0.10), y - int(height*0.10), x1+int(width*0.10), y1+int(height*0.10))\n",
        "            imgcrop = cropface(image,x,y,abs(x1-x),abs(y1-y))\n",
        "            arr_face.append(imgcrop)\n",
        "\n",
        "\n",
        "    return arr_face"
      ]
    },
    {
      "cell_type": "code",
      "execution_count": null,
      "metadata": {
        "id": "zCd6V7U7c8lM"
      },
      "outputs": [],
      "source": [
        "pathFace = '/content/drive/MyDrive/minichallenge/test'\n",
        "new_arr = []\n",
        "t_arr = []\n",
        "cont = 0\n",
        "for idx,name in enumerate(tqdm(os.listdir(pathFace))):\n",
        "    image_pil = Image.open(str(os.path.join(pathFace, name))).convert('RGB')\n",
        "    image = np.array(image_pil)\n",
        "    image = image[:, :, ::-1].copy()\n",
        "    nname, _ = name.split('.')\n",
        "    nname = int(nname)\n",
        "    arr_faces = []\n",
        "\n",
        "    faces = getfacetest(image,net)\n",
        "    for face in faces:\n",
        "        try:\n",
        "            facecrop = cv2.cvtColor(face,cv2.COLOR_BGR2GRAY)\n",
        "            facecrop = cv2.cvtColor(facecrop,cv2.COLOR_GRAY2BGR)\n",
        "            arr_faces.append(facecrop)\n",
        "        except:\n",
        "            pass\n",
        "\n",
        "    new_arr.append([nname,arr_faces])\n",
        "\n",
        "celebndata = np.array(new_arr,dtype=\"object\")"
      ]
    },
    {
      "cell_type": "code",
      "execution_count": null,
      "metadata": {
        "id": "Pw-LYwWmc8lN",
        "outputId": "ed5ea9b4-7b51-4c1a-e530-bc4303cff515"
      },
      "outputs": [
        {
          "data": {
            "text/plain": [
              "ResNet(\n",
              "  (conv1): Conv2d(3, 64, kernel_size=(7, 7), stride=(2, 2), padding=(3, 3), bias=False)\n",
              "  (bn1): BatchNorm2d(64, eps=1e-05, momentum=0.1, affine=True, track_running_stats=True)\n",
              "  (relu): ReLU(inplace=True)\n",
              "  (maxpool): MaxPool2d(kernel_size=3, stride=2, padding=1, dilation=1, ceil_mode=False)\n",
              "  (layer1): Sequential(\n",
              "    (0): BasicBlock(\n",
              "      (conv1): Conv2d(64, 64, kernel_size=(3, 3), stride=(1, 1), padding=(1, 1), bias=False)\n",
              "      (bn1): BatchNorm2d(64, eps=1e-05, momentum=0.1, affine=True, track_running_stats=True)\n",
              "      (relu): ReLU(inplace=True)\n",
              "      (conv2): Conv2d(64, 64, kernel_size=(3, 3), stride=(1, 1), padding=(1, 1), bias=False)\n",
              "      (bn2): BatchNorm2d(64, eps=1e-05, momentum=0.1, affine=True, track_running_stats=True)\n",
              "    )\n",
              "    (1): BasicBlock(\n",
              "      (conv1): Conv2d(64, 64, kernel_size=(3, 3), stride=(1, 1), padding=(1, 1), bias=False)\n",
              "      (bn1): BatchNorm2d(64, eps=1e-05, momentum=0.1, affine=True, track_running_stats=True)\n",
              "      (relu): ReLU(inplace=True)\n",
              "      (conv2): Conv2d(64, 64, kernel_size=(3, 3), stride=(1, 1), padding=(1, 1), bias=False)\n",
              "      (bn2): BatchNorm2d(64, eps=1e-05, momentum=0.1, affine=True, track_running_stats=True)\n",
              "    )\n",
              "    (2): BasicBlock(\n",
              "      (conv1): Conv2d(64, 64, kernel_size=(3, 3), stride=(1, 1), padding=(1, 1), bias=False)\n",
              "      (bn1): BatchNorm2d(64, eps=1e-05, momentum=0.1, affine=True, track_running_stats=True)\n",
              "      (relu): ReLU(inplace=True)\n",
              "      (conv2): Conv2d(64, 64, kernel_size=(3, 3), stride=(1, 1), padding=(1, 1), bias=False)\n",
              "      (bn2): BatchNorm2d(64, eps=1e-05, momentum=0.1, affine=True, track_running_stats=True)\n",
              "    )\n",
              "  )\n",
              "  (layer2): Sequential(\n",
              "    (0): BasicBlock(\n",
              "      (conv1): Conv2d(64, 128, kernel_size=(3, 3), stride=(2, 2), padding=(1, 1), bias=False)\n",
              "      (bn1): BatchNorm2d(128, eps=1e-05, momentum=0.1, affine=True, track_running_stats=True)\n",
              "      (relu): ReLU(inplace=True)\n",
              "      (conv2): Conv2d(128, 128, kernel_size=(3, 3), stride=(1, 1), padding=(1, 1), bias=False)\n",
              "      (bn2): BatchNorm2d(128, eps=1e-05, momentum=0.1, affine=True, track_running_stats=True)\n",
              "      (downsample): Sequential(\n",
              "        (0): Conv2d(64, 128, kernel_size=(1, 1), stride=(2, 2), bias=False)\n",
              "        (1): BatchNorm2d(128, eps=1e-05, momentum=0.1, affine=True, track_running_stats=True)\n",
              "      )\n",
              "    )\n",
              "    (1): BasicBlock(\n",
              "      (conv1): Conv2d(128, 128, kernel_size=(3, 3), stride=(1, 1), padding=(1, 1), bias=False)\n",
              "      (bn1): BatchNorm2d(128, eps=1e-05, momentum=0.1, affine=True, track_running_stats=True)\n",
              "      (relu): ReLU(inplace=True)\n",
              "      (conv2): Conv2d(128, 128, kernel_size=(3, 3), stride=(1, 1), padding=(1, 1), bias=False)\n",
              "      (bn2): BatchNorm2d(128, eps=1e-05, momentum=0.1, affine=True, track_running_stats=True)\n",
              "    )\n",
              "    (2): BasicBlock(\n",
              "      (conv1): Conv2d(128, 128, kernel_size=(3, 3), stride=(1, 1), padding=(1, 1), bias=False)\n",
              "      (bn1): BatchNorm2d(128, eps=1e-05, momentum=0.1, affine=True, track_running_stats=True)\n",
              "      (relu): ReLU(inplace=True)\n",
              "      (conv2): Conv2d(128, 128, kernel_size=(3, 3), stride=(1, 1), padding=(1, 1), bias=False)\n",
              "      (bn2): BatchNorm2d(128, eps=1e-05, momentum=0.1, affine=True, track_running_stats=True)\n",
              "    )\n",
              "    (3): BasicBlock(\n",
              "      (conv1): Conv2d(128, 128, kernel_size=(3, 3), stride=(1, 1), padding=(1, 1), bias=False)\n",
              "      (bn1): BatchNorm2d(128, eps=1e-05, momentum=0.1, affine=True, track_running_stats=True)\n",
              "      (relu): ReLU(inplace=True)\n",
              "      (conv2): Conv2d(128, 128, kernel_size=(3, 3), stride=(1, 1), padding=(1, 1), bias=False)\n",
              "      (bn2): BatchNorm2d(128, eps=1e-05, momentum=0.1, affine=True, track_running_stats=True)\n",
              "    )\n",
              "  )\n",
              "  (layer3): Sequential(\n",
              "    (0): BasicBlock(\n",
              "      (conv1): Conv2d(128, 256, kernel_size=(3, 3), stride=(2, 2), padding=(1, 1), bias=False)\n",
              "      (bn1): BatchNorm2d(256, eps=1e-05, momentum=0.1, affine=True, track_running_stats=True)\n",
              "      (relu): ReLU(inplace=True)\n",
              "      (conv2): Conv2d(256, 256, kernel_size=(3, 3), stride=(1, 1), padding=(1, 1), bias=False)\n",
              "      (bn2): BatchNorm2d(256, eps=1e-05, momentum=0.1, affine=True, track_running_stats=True)\n",
              "      (downsample): Sequential(\n",
              "        (0): Conv2d(128, 256, kernel_size=(1, 1), stride=(2, 2), bias=False)\n",
              "        (1): BatchNorm2d(256, eps=1e-05, momentum=0.1, affine=True, track_running_stats=True)\n",
              "      )\n",
              "    )\n",
              "    (1): BasicBlock(\n",
              "      (conv1): Conv2d(256, 256, kernel_size=(3, 3), stride=(1, 1), padding=(1, 1), bias=False)\n",
              "      (bn1): BatchNorm2d(256, eps=1e-05, momentum=0.1, affine=True, track_running_stats=True)\n",
              "      (relu): ReLU(inplace=True)\n",
              "      (conv2): Conv2d(256, 256, kernel_size=(3, 3), stride=(1, 1), padding=(1, 1), bias=False)\n",
              "      (bn2): BatchNorm2d(256, eps=1e-05, momentum=0.1, affine=True, track_running_stats=True)\n",
              "    )\n",
              "    (2): BasicBlock(\n",
              "      (conv1): Conv2d(256, 256, kernel_size=(3, 3), stride=(1, 1), padding=(1, 1), bias=False)\n",
              "      (bn1): BatchNorm2d(256, eps=1e-05, momentum=0.1, affine=True, track_running_stats=True)\n",
              "      (relu): ReLU(inplace=True)\n",
              "      (conv2): Conv2d(256, 256, kernel_size=(3, 3), stride=(1, 1), padding=(1, 1), bias=False)\n",
              "      (bn2): BatchNorm2d(256, eps=1e-05, momentum=0.1, affine=True, track_running_stats=True)\n",
              "    )\n",
              "    (3): BasicBlock(\n",
              "      (conv1): Conv2d(256, 256, kernel_size=(3, 3), stride=(1, 1), padding=(1, 1), bias=False)\n",
              "      (bn1): BatchNorm2d(256, eps=1e-05, momentum=0.1, affine=True, track_running_stats=True)\n",
              "      (relu): ReLU(inplace=True)\n",
              "      (conv2): Conv2d(256, 256, kernel_size=(3, 3), stride=(1, 1), padding=(1, 1), bias=False)\n",
              "      (bn2): BatchNorm2d(256, eps=1e-05, momentum=0.1, affine=True, track_running_stats=True)\n",
              "    )\n",
              "    (4): BasicBlock(\n",
              "      (conv1): Conv2d(256, 256, kernel_size=(3, 3), stride=(1, 1), padding=(1, 1), bias=False)\n",
              "      (bn1): BatchNorm2d(256, eps=1e-05, momentum=0.1, affine=True, track_running_stats=True)\n",
              "      (relu): ReLU(inplace=True)\n",
              "      (conv2): Conv2d(256, 256, kernel_size=(3, 3), stride=(1, 1), padding=(1, 1), bias=False)\n",
              "      (bn2): BatchNorm2d(256, eps=1e-05, momentum=0.1, affine=True, track_running_stats=True)\n",
              "    )\n",
              "    (5): BasicBlock(\n",
              "      (conv1): Conv2d(256, 256, kernel_size=(3, 3), stride=(1, 1), padding=(1, 1), bias=False)\n",
              "      (bn1): BatchNorm2d(256, eps=1e-05, momentum=0.1, affine=True, track_running_stats=True)\n",
              "      (relu): ReLU(inplace=True)\n",
              "      (conv2): Conv2d(256, 256, kernel_size=(3, 3), stride=(1, 1), padding=(1, 1), bias=False)\n",
              "      (bn2): BatchNorm2d(256, eps=1e-05, momentum=0.1, affine=True, track_running_stats=True)\n",
              "    )\n",
              "  )\n",
              "  (layer4): Sequential(\n",
              "    (0): BasicBlock(\n",
              "      (conv1): Conv2d(256, 512, kernel_size=(3, 3), stride=(2, 2), padding=(1, 1), bias=False)\n",
              "      (bn1): BatchNorm2d(512, eps=1e-05, momentum=0.1, affine=True, track_running_stats=True)\n",
              "      (relu): ReLU(inplace=True)\n",
              "      (conv2): Conv2d(512, 512, kernel_size=(3, 3), stride=(1, 1), padding=(1, 1), bias=False)\n",
              "      (bn2): BatchNorm2d(512, eps=1e-05, momentum=0.1, affine=True, track_running_stats=True)\n",
              "      (downsample): Sequential(\n",
              "        (0): Conv2d(256, 512, kernel_size=(1, 1), stride=(2, 2), bias=False)\n",
              "        (1): BatchNorm2d(512, eps=1e-05, momentum=0.1, affine=True, track_running_stats=True)\n",
              "      )\n",
              "    )\n",
              "    (1): BasicBlock(\n",
              "      (conv1): Conv2d(512, 512, kernel_size=(3, 3), stride=(1, 1), padding=(1, 1), bias=False)\n",
              "      (bn1): BatchNorm2d(512, eps=1e-05, momentum=0.1, affine=True, track_running_stats=True)\n",
              "      (relu): ReLU(inplace=True)\n",
              "      (conv2): Conv2d(512, 512, kernel_size=(3, 3), stride=(1, 1), padding=(1, 1), bias=False)\n",
              "      (bn2): BatchNorm2d(512, eps=1e-05, momentum=0.1, affine=True, track_running_stats=True)\n",
              "    )\n",
              "    (2): BasicBlock(\n",
              "      (conv1): Conv2d(512, 512, kernel_size=(3, 3), stride=(1, 1), padding=(1, 1), bias=False)\n",
              "      (bn1): BatchNorm2d(512, eps=1e-05, momentum=0.1, affine=True, track_running_stats=True)\n",
              "      (relu): ReLU(inplace=True)\n",
              "      (conv2): Conv2d(512, 512, kernel_size=(3, 3), stride=(1, 1), padding=(1, 1), bias=False)\n",
              "      (bn2): BatchNorm2d(512, eps=1e-05, momentum=0.1, affine=True, track_running_stats=True)\n",
              "    )\n",
              "  )\n",
              "  (avgpool): AdaptiveAvgPool2d(output_size=(1, 1))\n",
              "  (fc): Linear(in_features=512, out_features=100, bias=True)\n",
              ")"
            ]
          },
          "execution_count": 17,
          "metadata": {},
          "output_type": "execute_result"
        }
      ],
      "source": [
        "nmodel = best_model"
      ]
    },
    {
      "cell_type": "code",
      "execution_count": null,
      "metadata": {
        "id": "PrQ2pSO8c8lP"
      },
      "outputs": [],
      "source": [
        "nmodel.eval().to(device)\n",
        "res = []\n",
        "for idx,i in enumerate(tqdm(celebndata)):\n",
        "    max_prob = 0\n",
        "    class_pred = 0\n",
        "    for face in i[1]:\n",
        "        inputs = transformtest(face)\n",
        "        inputs = inputs.to(device,dtype=torch.float)\n",
        "        inputs = torch.unsqueeze(inputs,0)\n",
        "        output = nmodel(inputs)\n",
        "        class_prob = output.data.max(1, keepdim=True)[1].flatten().tolist()[0]\n",
        "        pred = output.data.max(1, keepdim=True)[1]\n",
        "        pred = torch.flatten(pred, 0).to('cpu').tolist()[0]\n",
        "        #we only keep the highest probability class for all faces detected in one image\n",
        "        if class_prob > max_prob:\n",
        "            max_prob = class_prob\n",
        "            class_pred = pred\n",
        "            break\n",
        "    res.append([i[0],class_pred])"
      ]
    },
    {
      "cell_type": "code",
      "execution_count": null,
      "metadata": {
        "id": "z2kE8k9Zc8lP"
      },
      "outputs": [],
      "source": [
        "dataframe1 = pd.DataFrame(res,columns = ['Id','Category'])"
      ]
    },
    {
      "cell_type": "code",
      "execution_count": null,
      "metadata": {
        "id": "pGfqZmaoc8lP",
        "outputId": "4c2231e9-5c0b-42ce-eca9-9511d21f6f32"
      },
      "outputs": [
        {
          "data": {
            "text/html": [
              "<div>\n",
              "<style scoped>\n",
              "    .dataframe tbody tr th:only-of-type {\n",
              "        vertical-align: middle;\n",
              "    }\n",
              "\n",
              "    .dataframe tbody tr th {\n",
              "        vertical-align: top;\n",
              "    }\n",
              "\n",
              "    .dataframe thead th {\n",
              "        text-align: right;\n",
              "    }\n",
              "</style>\n",
              "<table border=\"1\" class=\"dataframe\">\n",
              "  <thead>\n",
              "    <tr style=\"text-align: right;\">\n",
              "      <th></th>\n",
              "      <th>Id</th>\n",
              "      <th>Category</th>\n",
              "    </tr>\n",
              "  </thead>\n",
              "  <tbody>\n",
              "    <tr>\n",
              "      <th>0</th>\n",
              "      <td>0</td>\n",
              "      <td>5</td>\n",
              "    </tr>\n",
              "    <tr>\n",
              "      <th>1</th>\n",
              "      <td>1</td>\n",
              "      <td>21</td>\n",
              "    </tr>\n",
              "    <tr>\n",
              "      <th>2</th>\n",
              "      <td>10</td>\n",
              "      <td>7</td>\n",
              "    </tr>\n",
              "    <tr>\n",
              "      <th>3</th>\n",
              "      <td>100</td>\n",
              "      <td>71</td>\n",
              "    </tr>\n",
              "    <tr>\n",
              "      <th>4</th>\n",
              "      <td>1000</td>\n",
              "      <td>23</td>\n",
              "    </tr>\n",
              "    <tr>\n",
              "      <th>...</th>\n",
              "      <td>...</td>\n",
              "      <td>...</td>\n",
              "    </tr>\n",
              "    <tr>\n",
              "      <th>4972</th>\n",
              "      <td>995</td>\n",
              "      <td>82</td>\n",
              "    </tr>\n",
              "    <tr>\n",
              "      <th>4973</th>\n",
              "      <td>996</td>\n",
              "      <td>7</td>\n",
              "    </tr>\n",
              "    <tr>\n",
              "      <th>4974</th>\n",
              "      <td>997</td>\n",
              "      <td>11</td>\n",
              "    </tr>\n",
              "    <tr>\n",
              "      <th>4975</th>\n",
              "      <td>998</td>\n",
              "      <td>75</td>\n",
              "    </tr>\n",
              "    <tr>\n",
              "      <th>4976</th>\n",
              "      <td>999</td>\n",
              "      <td>49</td>\n",
              "    </tr>\n",
              "  </tbody>\n",
              "</table>\n",
              "<p>4977 rows × 2 columns</p>\n",
              "</div>"
            ],
            "text/plain": [
              "        Id  Category\n",
              "0        0         5\n",
              "1        1        21\n",
              "2       10         7\n",
              "3      100        71\n",
              "4     1000        23\n",
              "...    ...       ...\n",
              "4972   995        82\n",
              "4973   996         7\n",
              "4974   997        11\n",
              "4975   998        75\n",
              "4976   999        49\n",
              "\n",
              "[4977 rows x 2 columns]"
            ]
          },
          "execution_count": 213,
          "metadata": {},
          "output_type": "execute_result"
        }
      ],
      "source": [
        "dataframe1.astype('int32')"
      ]
    },
    {
      "cell_type": "code",
      "execution_count": null,
      "metadata": {
        "id": "reRWqrIec8lP"
      },
      "outputs": [],
      "source": [
        "submis = pd.merge(dataframe2,dataframe1,left_index=True, right_index=True)\n",
        "submis = submis.drop('Id_y',axis=1)\n",
        "submis = submis.rename(columns={'Id_x':'Id'})\n",
        "submis = submis.sort_values('Id',key=pd.to_numeric)"
      ]
    },
    {
      "cell_type": "code",
      "execution_count": null,
      "metadata": {
        "id": "iVaOTuRcc8lQ"
      },
      "outputs": [],
      "source": [
        "pathCat = '/content/drive/MyDrive/minichallenge/category.csv'\n",
        "celebcat = pd.read_csv(pathCat,header = 0)\n",
        "celebcat = celebcat.rename(columns={'Category':'Name'})\n",
        "celebcat = celebcat.rename(columns={'Unnamed: 0':'Category'})"
      ]
    },
    {
      "cell_type": "code",
      "execution_count": null,
      "metadata": {
        "id": "QJNef7vYc8lQ"
      },
      "outputs": [],
      "source": [
        "submis = pd.merge(dataframe1,celebcat,on='Category')\n",
        "submis = submis.sort_values('Id',key=pd.to_numeric)"
      ]
    },
    {
      "cell_type": "code",
      "execution_count": null,
      "metadata": {
        "id": "z0P2ta3Qc8lQ",
        "outputId": "fe452312-c357-4415-c195-160e80de037b"
      },
      "outputs": [
        {
          "data": {
            "text/html": [
              "<div>\n",
              "<style scoped>\n",
              "    .dataframe tbody tr th:only-of-type {\n",
              "        vertical-align: middle;\n",
              "    }\n",
              "\n",
              "    .dataframe tbody tr th {\n",
              "        vertical-align: top;\n",
              "    }\n",
              "\n",
              "    .dataframe thead th {\n",
              "        text-align: right;\n",
              "    }\n",
              "</style>\n",
              "<table border=\"1\" class=\"dataframe\">\n",
              "  <thead>\n",
              "    <tr style=\"text-align: right;\">\n",
              "      <th></th>\n",
              "      <th>Id</th>\n",
              "      <th>Category</th>\n",
              "      <th>Name</th>\n",
              "    </tr>\n",
              "  </thead>\n",
              "  <tbody>\n",
              "    <tr>\n",
              "      <th>0</th>\n",
              "      <td>0</td>\n",
              "      <td>5</td>\n",
              "      <td>Anna Friel</td>\n",
              "    </tr>\n",
              "    <tr>\n",
              "      <th>55</th>\n",
              "      <td>1</td>\n",
              "      <td>21</td>\n",
              "      <td>Amy Ryan</td>\n",
              "    </tr>\n",
              "    <tr>\n",
              "      <th>4860</th>\n",
              "      <td>2</td>\n",
              "      <td>52</td>\n",
              "      <td>Adrien Brody</td>\n",
              "    </tr>\n",
              "    <tr>\n",
              "      <th>2997</th>\n",
              "      <td>3</td>\n",
              "      <td>26</td>\n",
              "      <td>Adriana Barraza</td>\n",
              "    </tr>\n",
              "    <tr>\n",
              "      <th>2185</th>\n",
              "      <td>4</td>\n",
              "      <td>72</td>\n",
              "      <td>Albert Brooks</td>\n",
              "    </tr>\n",
              "    <tr>\n",
              "      <th>...</th>\n",
              "      <td>...</td>\n",
              "      <td>...</td>\n",
              "      <td>...</td>\n",
              "    </tr>\n",
              "    <tr>\n",
              "      <th>3148</th>\n",
              "      <td>4972</td>\n",
              "      <td>69</td>\n",
              "      <td>Barabara Palvin</td>\n",
              "    </tr>\n",
              "    <tr>\n",
              "      <th>100</th>\n",
              "      <td>4973</td>\n",
              "      <td>21</td>\n",
              "      <td>Amy Ryan</td>\n",
              "    </tr>\n",
              "    <tr>\n",
              "      <th>537</th>\n",
              "      <td>4974</td>\n",
              "      <td>95</td>\n",
              "      <td>Bill Hader</td>\n",
              "    </tr>\n",
              "    <tr>\n",
              "      <th>1942</th>\n",
              "      <td>4975</td>\n",
              "      <td>25</td>\n",
              "      <td>Amanda Crew</td>\n",
              "    </tr>\n",
              "    <tr>\n",
              "      <th>2821</th>\n",
              "      <td>4976</td>\n",
              "      <td>62</td>\n",
              "      <td>bella thorne</td>\n",
              "    </tr>\n",
              "  </tbody>\n",
              "</table>\n",
              "<p>4977 rows × 3 columns</p>\n",
              "</div>"
            ],
            "text/plain": [
              "        Id  Category             Name\n",
              "0        0         5       Anna Friel\n",
              "55       1        21         Amy Ryan\n",
              "4860     2        52     Adrien Brody\n",
              "2997     3        26  Adriana Barraza\n",
              "2185     4        72    Albert Brooks\n",
              "...    ...       ...              ...\n",
              "3148  4972        69  Barabara Palvin\n",
              "100   4973        21         Amy Ryan\n",
              "537   4974        95       Bill Hader\n",
              "1942  4975        25      Amanda Crew\n",
              "2821  4976        62     bella thorne\n",
              "\n",
              "[4977 rows x 3 columns]"
            ]
          },
          "execution_count": 222,
          "metadata": {},
          "output_type": "execute_result"
        }
      ],
      "source": [
        "submis"
      ]
    },
    {
      "cell_type": "code",
      "execution_count": null,
      "metadata": {
        "id": "zxtRLEooc8lQ",
        "outputId": "52f1f827-96fc-4af6-c7cd-ddf0778d5f0f"
      },
      "outputs": [
        {
          "data": {
            "text/html": [
              "<div>\n",
              "<style scoped>\n",
              "    .dataframe tbody tr th:only-of-type {\n",
              "        vertical-align: middle;\n",
              "    }\n",
              "\n",
              "    .dataframe tbody tr th {\n",
              "        vertical-align: top;\n",
              "    }\n",
              "\n",
              "    .dataframe thead th {\n",
              "        text-align: right;\n",
              "    }\n",
              "</style>\n",
              "<table border=\"1\" class=\"dataframe\">\n",
              "  <thead>\n",
              "    <tr style=\"text-align: right;\">\n",
              "      <th></th>\n",
              "      <th>Id</th>\n",
              "      <th>Category</th>\n",
              "    </tr>\n",
              "  </thead>\n",
              "  <tbody>\n",
              "    <tr>\n",
              "      <th>0</th>\n",
              "      <td>0</td>\n",
              "      <td>Anna Friel</td>\n",
              "    </tr>\n",
              "    <tr>\n",
              "      <th>55</th>\n",
              "      <td>1</td>\n",
              "      <td>Amy Ryan</td>\n",
              "    </tr>\n",
              "    <tr>\n",
              "      <th>4860</th>\n",
              "      <td>2</td>\n",
              "      <td>Adrien Brody</td>\n",
              "    </tr>\n",
              "    <tr>\n",
              "      <th>2997</th>\n",
              "      <td>3</td>\n",
              "      <td>Adriana Barraza</td>\n",
              "    </tr>\n",
              "    <tr>\n",
              "      <th>2185</th>\n",
              "      <td>4</td>\n",
              "      <td>Albert Brooks</td>\n",
              "    </tr>\n",
              "    <tr>\n",
              "      <th>...</th>\n",
              "      <td>...</td>\n",
              "      <td>...</td>\n",
              "    </tr>\n",
              "    <tr>\n",
              "      <th>3148</th>\n",
              "      <td>4972</td>\n",
              "      <td>Barabara Palvin</td>\n",
              "    </tr>\n",
              "    <tr>\n",
              "      <th>100</th>\n",
              "      <td>4973</td>\n",
              "      <td>Amy Ryan</td>\n",
              "    </tr>\n",
              "    <tr>\n",
              "      <th>537</th>\n",
              "      <td>4974</td>\n",
              "      <td>Bill Hader</td>\n",
              "    </tr>\n",
              "    <tr>\n",
              "      <th>1942</th>\n",
              "      <td>4975</td>\n",
              "      <td>Amanda Crew</td>\n",
              "    </tr>\n",
              "    <tr>\n",
              "      <th>2821</th>\n",
              "      <td>4976</td>\n",
              "      <td>bella thorne</td>\n",
              "    </tr>\n",
              "  </tbody>\n",
              "</table>\n",
              "<p>4977 rows × 2 columns</p>\n",
              "</div>"
            ],
            "text/plain": [
              "        Id         Category\n",
              "0        0       Anna Friel\n",
              "55       1         Amy Ryan\n",
              "4860     2     Adrien Brody\n",
              "2997     3  Adriana Barraza\n",
              "2185     4    Albert Brooks\n",
              "...    ...              ...\n",
              "3148  4972  Barabara Palvin\n",
              "100   4973         Amy Ryan\n",
              "537   4974       Bill Hader\n",
              "1942  4975      Amanda Crew\n",
              "2821  4976     bella thorne\n",
              "\n",
              "[4977 rows x 2 columns]"
            ]
          },
          "execution_count": 225,
          "metadata": {},
          "output_type": "execute_result"
        }
      ],
      "source": [
        "#submis= submis.set_index('Id')\n",
        "submis = submis.drop(columns=['Category'])\n",
        "submis = submis.rename(columns={'Name':'Category'})\n",
        "submis"
      ]
    },
    {
      "cell_type": "code",
      "execution_count": null,
      "metadata": {
        "id": "dMd2LVE9c8lR"
      },
      "outputs": [],
      "source": [
        "pathc = '/content/drive/MyDrive/minichallenge/submission.csv'\n",
        "submis.to_csv(pathc,index = False)"
      ]
    },
    {
      "cell_type": "markdown",
      "metadata": {
        "id": "ClwWxRZ0c8lR"
      },
      "source": []
    }
  ],
  "metadata": {
    "accelerator": "GPU",
    "colab": {
      "gpuType": "T4",
      "machine_shape": "hm",
      "provenance": []
    },
    "kernelspec": {
      "display_name": "Python 3",
      "name": "python3"
    },
    "language_info": {
      "codemirror_mode": {
        "name": "ipython",
        "version": 3
      },
      "file_extension": ".py",
      "mimetype": "text/x-python",
      "name": "python",
      "nbconvert_exporter": "python",
      "pygments_lexer": "ipython3",
      "version": "3.8.18"
    }
  },
  "nbformat": 4,
  "nbformat_minor": 0
}
